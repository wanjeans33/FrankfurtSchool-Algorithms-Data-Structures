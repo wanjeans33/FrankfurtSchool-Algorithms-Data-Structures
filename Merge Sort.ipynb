{
 "cells": [
  {
   "cell_type": "markdown",
   "metadata": {},
   "source": [
    "# Describe and Implement Merge Sort\n",
    "<center>by Egle Group work\n",
    "  \n",
    "From Jing Wang, Marius Gnoth, Alexander Moshchev, Cheng Yu, Jialiang Gao and Zhuan Wu\n",
    "\n",
    "Mented by Vahe Andonians Salmas</center>\n",
    "\n",
    "## Introduction\n",
    "*Merge Sort* is a divide-and-conquer sorting algorithm that breaks a list down into smaller sublists until each sublist consists of a single element and then merges those sublists in a manner that results in a sorted list.\n",
    "\n",
    "\n"
   ]
  },
  {
   "cell_type": "code",
   "execution_count": null,
   "metadata": {},
   "outputs": [],
   "source": []
  }
 ],
 "metadata": {
  "language_info": {
   "name": "python"
  },
  "orig_nbformat": 4
 },
 "nbformat": 4,
 "nbformat_minor": 2
}
