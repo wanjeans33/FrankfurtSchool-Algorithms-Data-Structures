{
 "cells": [
  {
   "cell_type": "code",
   "execution_count": 9,
   "metadata": {},
   "outputs": [],
   "source": [
    "class Boys:\n",
    "    Boys_list={}\n",
    "    def add_boy(self,n,list):\n",
    "        Boys.Boys_list[n]=list\n",
    "        return print(f'Boy {n} list is {list}')\n",
    "    def get_boy_list(self,n):\n",
    "        return Boys.Boys_list[n]\n",
    "\n",
    "class Girls:\n",
    "    Girls_list={}\n",
    "    def add_girl(self,n,list):\n",
    "        Girls.Girls_list[n]=list\n",
    "        return print(f'Girl {n} list is {list}')\n",
    "    def get_girl_list(self,n):\n",
    "        return Girls.Girls_list[n]\n",
    "    \n",
    "class "
   ]
  },
  {
   "cell_type": "code",
   "execution_count": 17,
   "metadata": {},
   "outputs": [
    {
     "name": "stdout",
     "output_type": "stream",
     "text": [
      "[1, 0, 6, 5, 8, 6, 2, 6, 9, 3]\n",
      "[2, 0, 4, 3, 1]\n"
     ]
    }
   ],
   "source": [
    "import random\n",
    "def generate_random_int_list(length, min_value, max_value):\n",
    "    random_list = [random.randint(min_value, max_value) for _ in range(length)]\n",
    "    return random_list\n",
    "\n",
    "# Example usage:\n",
    "random_list = generate_random_int_list(10, 0, 9)  # Generates a list of 10 random integers between 1 and 100\n",
    "print(random_list)\n",
    "\n",
    "print(random.sample(range(5),5))"
   ]
  },
  {
   "cell_type": "code",
   "execution_count": 21,
   "metadata": {},
   "outputs": [
    {
     "name": "stdout",
     "output_type": "stream",
     "text": [
      "Boy 0 list is [2, 4, 1, 0, 3]\n",
      "Girl 0 list is [2, 3, 4, 0, 1]\n",
      "Boy 1 list is [1, 2, 0, 4, 3]\n",
      "Girl 1 list is [1, 0, 2, 4, 3]\n",
      "Boy 2 list is [0, 1, 3, 2, 4]\n",
      "Girl 2 list is [1, 2, 3, 0, 4]\n",
      "Boy 3 list is [3, 0, 2, 4, 1]\n",
      "Girl 3 list is [1, 2, 0, 3, 4]\n",
      "Boy 4 list is [0, 4, 1, 3, 2]\n",
      "Girl 4 list is [3, 1, 2, 4, 0]\n",
      "[1, 2, 0, 3, 4]\n"
     ]
    }
   ],
   "source": [
    "boys=Boys()\n",
    "girls=Girls()\n",
    "for i in range(0,5):\n",
    "    boys.add_boy(i, random.sample(range(5),5))\n",
    "    girls.add_girl(i,random.sample(range(5),5))\n",
    "\n",
    "boys.get_boy_list(0)\n",
    "girls.get_girl_list(3)\n",
    "print(girls.Girls_list[3])"
   ]
  },
  {
   "cell_type": "code",
   "execution_count": null,
   "metadata": {},
   "outputs": [],
   "source": []
  }
 ],
 "metadata": {
  "kernelspec": {
   "display_name": "base",
   "language": "python",
   "name": "python3"
  },
  "language_info": {
   "codemirror_mode": {
    "name": "ipython",
    "version": 3
   },
   "file_extension": ".py",
   "mimetype": "text/x-python",
   "name": "python",
   "nbconvert_exporter": "python",
   "pygments_lexer": "ipython3",
   "version": "3.8.5"
  },
  "orig_nbformat": 4
 },
 "nbformat": 4,
 "nbformat_minor": 2
}
