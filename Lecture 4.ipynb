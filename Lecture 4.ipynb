{
 "cells": [
  {
   "cell_type": "code",
   "execution_count": 47,
   "metadata": {},
   "outputs": [],
   "source": [
    "class Boys:\n",
    "    Boys_list={}\n",
    "    def add_boy(self,n,list):\n",
    "        Boys.Boys_list[n]=list\n",
    "        return print(f'Boy {n} list is {list}')\n",
    "    def get_boy_list(self,n):\n",
    "        return Boys.Boys_list[n]\n",
    "\n",
    "class Girls:\n",
    "    Girls_list={}\n",
    "    def add_girl(self,n,list):\n",
    "        Girls.Girls_list[n]=list\n",
    "        return print(f'Girl {n} list is {list}')\n",
    "    def get_girl_list(self,n):\n",
    "        return Girls.Girls_list[n]\n",
    "    \n",
    "class Match:\n",
    "    def __init__(self):\n",
    "        self.Boy_match={}\n",
    "        self.Girl_match={}\n",
    "    def get_boy_match(self,n):\n",
    "        return self.Boy_match.get(n)\n",
    "    def get_girl_match(self,n):\n",
    "        return self.Girl_match.get(n)\n",
    "    def add_match(self,b,g):\n",
    "        self.Boy_match[b]=g\n",
    "        self.Girl_match[g]=b\n",
    "        print(f'{b} and {g} is married')\n",
    "    def delete_match(self,b,g):\n",
    "        self.Boy_match.pop(b)\n",
    "        self.Girl_match.pop(g)"
   ]
  },
  {
   "cell_type": "code",
   "execution_count": 48,
   "metadata": {},
   "outputs": [
    {
     "name": "stdout",
     "output_type": "stream",
     "text": [
      "Boy 0 list is [4, 0, 2, 1, 3]\n",
      "Girl 0 list is [3, 0, 1, 2, 4]\n",
      "Boy 1 list is [3, 1, 2, 4, 0]\n",
      "Girl 1 list is [4, 0, 2, 3, 1]\n",
      "Boy 2 list is [3, 1, 0, 4, 2]\n",
      "Girl 2 list is [0, 4, 1, 3, 2]\n",
      "Boy 3 list is [4, 0, 2, 1, 3]\n",
      "Girl 3 list is [4, 2, 1, 0, 3]\n",
      "Boy 4 list is [1, 3, 4, 0, 2]\n",
      "Girl 4 list is [4, 1, 0, 3, 2]\n",
      "3\n",
      "[4, 2, 1, 0, 3]\n",
      "5\n",
      "[4, 2, 1, 0, 3]\n"
     ]
    }
   ],
   "source": [
    "import random\n",
    "boys=Boys()\n",
    "girls=Girls()\n",
    "for i in range(0,5):\n",
    "    boys.add_boy(i, random.sample(range(5),5))\n",
    "    girls.add_girl(i,random.sample(range(5),5))\n",
    "\n",
    "boys.get_boy_list(0)\n",
    "girls.get_girl_list(3)\n",
    "g=girls.get_girl_list(3)\n",
    "print(g.index(0))\n",
    "print(girls.Girls_list[3])\n",
    "print(len(girls.Girls_list))\n",
    "print(girls.Girls_list[3])"
   ]
  },
  {
   "cell_type": "code",
   "execution_count": 51,
   "metadata": {},
   "outputs": [
    {
     "name": "stdout",
     "output_type": "stream",
     "text": [
      "boys 0 list is [4, 0, 2, 1, 3]\n",
      "0 and 4 is married\n",
      "1\n",
      "boys 2 list is [3, 1, 0, 4, 2]\n",
      "2 and 3 is married\n",
      "3\n",
      "boys 4 list is [1, 3, 4, 0, 2]\n",
      "4 and 1 is married\n",
      "0\n",
      "boys 1 list is [3, 1, 2, 4, 0]\n",
      "3 is married\n",
      "1 is married\n",
      "1 and 2 is married\n",
      "2\n",
      "boys 3 list is [4, 0, 2, 1, 3]\n",
      "4 is married\n",
      "3 and 0 is married\n",
      "4\n",
      "{0: 4, 2: 3, 4: 1, 1: 2, 3: 0}\n"
     ]
    }
   ],
   "source": [
    "match=Match()\n",
    "length=5\n",
    "b=0\n",
    "while length > len(match.Boy_match):\n",
    "    print (f'boys {b} list is {boys.get_boy_list(b)}')\n",
    "    for g in boys.get_boy_list(b):\n",
    "        if g in match.Girl_match:\n",
    "            print(f'{g} is married')\n",
    "            husband = match.get_girl_match(g)\n",
    "            g_list=girls.get_girl_list(g)\n",
    "            if g_list.index(b) < g_list.index(husband):\n",
    "                print(f'husband={husband}')\n",
    "                print(f'{match.Boy_match}')\n",
    "                print(f'new={b}')\n",
    "                match.delete_match(husband,g)\n",
    "                match.add_match(b,g)\n",
    "                b= (b+1)%5\n",
    "                break\n",
    "        else:\n",
    "            \n",
    "            match.add_match(b,g)\n",
    "            b= (b+1)%5\n",
    "            print(b)\n",
    "            break\n",
    "    b=(b+1)%5\n",
    "    \n",
    "print(match.Boy_match)       \n",
    "               \n",
    "        "
   ]
  },
  {
   "cell_type": "markdown",
   "metadata": {},
   "source": []
  },
  {
   "cell_type": "code",
   "execution_count": 52,
   "metadata": {},
   "outputs": [
    {
     "name": "stdout",
     "output_type": "stream",
     "text": [
      "{0: [3, 0, 1, 2, 4], 1: [4, 0, 2, 3, 1], 2: [0, 4, 1, 3, 2], 3: [4, 2, 1, 0, 3], 4: [4, 1, 0, 3, 2]}\n"
     ]
    }
   ],
   "source": [
    "print(girls.Girls_list)"
   ]
  },
  {
   "cell_type": "code",
   "execution_count": null,
   "metadata": {},
   "outputs": [],
   "source": []
  }
 ],
 "metadata": {
  "kernelspec": {
   "display_name": "base",
   "language": "python",
   "name": "python3"
  },
  "language_info": {
   "codemirror_mode": {
    "name": "ipython",
    "version": 3
   },
   "file_extension": ".py",
   "mimetype": "text/x-python",
   "name": "python",
   "nbconvert_exporter": "python",
   "pygments_lexer": "ipython3",
   "version": "3.8.5"
  },
  "orig_nbformat": 4
 },
 "nbformat": 4,
 "nbformat_minor": 2
}
