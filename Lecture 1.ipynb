{
 "cells": [
  {
   "cell_type": "code",
   "execution_count": 1,
   "metadata": {},
   "outputs": [],
   "source": [
    "import numpy as np\n",
    "import matplotlib.pyplot as plt"
   ]
  },
  {
   "cell_type": "code",
   "execution_count": 1,
   "metadata": {},
   "outputs": [
    {
     "name": "stdout",
     "output_type": "stream",
     "text": [
      "[2, 5, 1, 7, 4, 5]\n"
     ]
    }
   ],
   "source": [
    "List=[2,5,1,7,4,5]\n",
    "print(List)"
   ]
  },
  {
   "cell_type": "code",
   "execution_count": 3,
   "metadata": {},
   "outputs": [
    {
     "data": {
      "text/plain": [
       "range(0, 10)"
      ]
     },
     "execution_count": 3,
     "metadata": {},
     "output_type": "execute_result"
    }
   ],
   "source": [
    "range(0,10)"
   ]
  },
  {
   "cell_type": "code",
   "execution_count": 4,
   "metadata": {},
   "outputs": [
    {
     "name": "stdout",
     "output_type": "stream",
     "text": [
      "0\n",
      "1\n",
      "2\n",
      "3\n",
      "4\n",
      "5\n",
      "6\n",
      "7\n",
      "8\n",
      "9\n"
     ]
    }
   ],
   "source": [
    "for i in range(0,10):\n",
    "    i=i\n",
    "    print(i)"
   ]
  },
  {
   "cell_type": "code",
   "execution_count": 5,
   "metadata": {},
   "outputs": [
    {
     "name": "stdout",
     "output_type": "stream",
     "text": [
      "[3, 5, 1, 7, 4, 5]\n",
      "[1, 3, 4, 5, 5, 7]\n",
      "[1, 3, 4]\n"
     ]
    }
   ],
   "source": [
    "List=[3,5,1,7,4,5]\n",
    "print(List)\n",
    "for i, n in enumerate(List):\n",
    "    #print(f'position of i is {i}')\n",
    "    for ii in range(0,i):\n",
    "        #print(f'position of ii is {ii}')\n",
    "        #print(f'List[i] is {i,n}')\n",
    "        if n <= List[ii]:\n",
    "            #print('compare!')\n",
    "            #print(List)\n",
    "            a = n\n",
    "            b = List[ii:i]\n",
    "            #print(f'i is {i}, ii is {ii}, b is {b}')\n",
    "            List[ii+1:i+1]=b\n",
    "            List[ii]=a\n",
    "            #print(f'new List is {List}')\n",
    "            break\n",
    "print(List)\n",
    "print(List[0:3])"
   ]
  },
  {
   "cell_type": "code",
   "execution_count": 6,
   "metadata": {},
   "outputs": [
    {
     "name": "stdout",
     "output_type": "stream",
     "text": [
      "[3, 5, 1, 7, 4, 5]\n",
      "[1, 3, 4, 5, 5, 7]\n"
     ]
    }
   ],
   "source": [
    "List=[3,5,1,7,4,5]\n",
    "print(List)\n",
    "for i in range(len(List)):\n",
    "    for ii in range(0,i):\n",
    "        if List[i] <= List[ii]:\n",
    "            a = List[i]\n",
    "            List[ii+1:i+1]=List[ii:i]\n",
    "            List[ii]=a\n",
    "            break\n",
    "print(List)"
   ]
  },
  {
   "cell_type": "code",
   "execution_count": 7,
   "metadata": {},
   "outputs": [
    {
     "name": "stdout",
     "output_type": "stream",
     "text": [
      "[1, 3, 4, 5, 5, 7]\n"
     ]
    }
   ],
   "source": [
    "List=[3,5,1,7,4,5]\n",
    "def insert_sort(List):\n",
    "    for i in range(len(List)):\n",
    "        for ii in range(0,i):\n",
    "            if List[i] <= List[ii]:\n",
    "                a = List[i]\n",
    "                List[ii+1:i+1]=List[ii:i]\n",
    "                List[ii]=a\n",
    "                break\n",
    "    return List\n",
    "print(insert_sort(List))"
   ]
  },
  {
   "cell_type": "code",
   "execution_count": 8,
   "metadata": {},
   "outputs": [
    {
     "name": "stdout",
     "output_type": "stream",
     "text": [
      "[1, 3, 4, 5, 5, 7]\n"
     ]
    }
   ],
   "source": [
    "List=[3,5,1,7,4,5]\n",
    "def insert_sort_2(List):\n",
    "    for i in range(0,len(List)):\n",
    "        ii = 0\n",
    "        while List[i] > List[ii]:\n",
    "            ii=ii+1\n",
    "        a = List[i]\n",
    "        List[ii+1:i+1]=List[ii:i]\n",
    "        List[ii]=a\n",
    "    return List\n",
    "print(insert_sort_2(List))"
   ]
  },
  {
   "cell_type": "code",
   "execution_count": 9,
   "metadata": {},
   "outputs": [
    {
     "name": "stdout",
     "output_type": "stream",
     "text": [
      "Duration: 0:00:00.020294\n"
     ]
    }
   ],
   "source": [
    "from datetime import datetime\n",
    "import random\n",
    "a=1000\n",
    "n = random.sample(range(0, a+1), a)\n",
    "start_time = datetime.now()\n",
    "insert_sort_2(n)\n",
    "end_time = datetime.now()\n",
    "print('Duration: {}'.format(end_time - start_time))"
   ]
  },
  {
   "cell_type": "code",
   "execution_count": 10,
   "metadata": {},
   "outputs": [
    {
     "name": "stdout",
     "output_type": "stream",
     "text": [
      "Duration: 0:00:00.000253\n"
     ]
    }
   ],
   "source": [
    "a=100\n",
    "n = random.sample(range(0, a+1), a)\n",
    "start_time = datetime.now()\n",
    "insert_sort_2(n)\n",
    "end_time = datetime.now()\n",
    "print('Duration: {}'.format(end_time - start_time))"
   ]
  },
  {
   "cell_type": "code",
   "execution_count": 12,
   "metadata": {},
   "outputs": [
    {
     "ename": "IndexError",
     "evalue": "index 3 is out of bounds for axis 0 with size 3",
     "output_type": "error",
     "traceback": [
      "\u001b[0;31m---------------------------------------------------------------------------\u001b[0m",
      "\u001b[0;31mIndexError\u001b[0m                                Traceback (most recent call last)",
      "\u001b[0;32m<ipython-input-12-74013917f1b3>\u001b[0m in \u001b[0;36m<module>\u001b[0;34m\u001b[0m\n\u001b[1;32m      8\u001b[0m     \u001b[0minsert_sort_2\u001b[0m\u001b[0;34m(\u001b[0m\u001b[0mn\u001b[0m\u001b[0;34m)\u001b[0m\u001b[0;34m\u001b[0m\u001b[0;34m\u001b[0m\u001b[0m\n\u001b[1;32m      9\u001b[0m     \u001b[0mend_time\u001b[0m \u001b[0;34m=\u001b[0m \u001b[0mdatetime\u001b[0m\u001b[0;34m.\u001b[0m\u001b[0mnow\u001b[0m\u001b[0;34m(\u001b[0m\u001b[0;34m)\u001b[0m\u001b[0;34m\u001b[0m\u001b[0;34m\u001b[0m\u001b[0m\n\u001b[0;32m---> 10\u001b[0;31m     \u001b[0mtimeresult\u001b[0m\u001b[0;34m[\u001b[0m\u001b[0mi\u001b[0m\u001b[0;34m]\u001b[0m\u001b[0;34m=\u001b[0m\u001b[0;34m(\u001b[0m\u001b[0mend_time\u001b[0m \u001b[0;34m-\u001b[0m \u001b[0mstart_time\u001b[0m\u001b[0;34m)\u001b[0m\u001b[0;34m.\u001b[0m\u001b[0mtotal_seconds\u001b[0m\u001b[0;34m(\u001b[0m\u001b[0;34m)\u001b[0m\u001b[0;34m\u001b[0m\u001b[0;34m\u001b[0m\u001b[0m\n\u001b[0m",
      "\u001b[0;31mIndexError\u001b[0m: index 3 is out of bounds for axis 0 with size 3"
     ]
    }
   ],
   "source": [
    "a=np.array([100,200,500,1000,2000,5000,10000,12000,15000,18000,20000])\n",
    "timeresult=np.zeros((3,len(a)))\n",
    "\n",
    "for i in range(len(a)):\n",
    "    number=a[i]\n",
    "    n = random.sample(range(0, number+1), number)\n",
    "    start_time = datetime.now()\n",
    "    insert_sort_2(n)\n",
    "    end_time = datetime.now()\n",
    "    timeresult[i]=(end_time - start_time).total_seconds()"
   ]
  },
  {
   "cell_type": "code",
   "execution_count": 13,
   "metadata": {},
   "outputs": [
    {
     "name": "stdout",
     "output_type": "stream",
     "text": [
      "[[0. 0. 0. 0. 0. 0. 0. 0. 0. 0. 0. 0.]\n",
      " [0. 0. 0. 0. 0. 0. 0. 0. 0. 0. 0. 0.]\n",
      " [0. 0. 0. 0. 0. 0. 0. 0. 0. 0. 0. 0.]\n",
      " [0. 0. 0. 0. 0. 0. 0. 0. 0. 0. 0. 0.]\n",
      " [0. 0. 0. 0. 0. 0. 0. 0. 0. 0. 0. 0.]]\n"
     ]
    }
   ],
   "source": [
    "x=5\n",
    "a=np.array([100,200,500,1000,2000,5000,8000,10000,12000,15000,18000,20000])\n",
    "timeresult=np.zeros((x,len(a)))\n",
    "print(timeresult)\n",
    "for j in range(x):\n",
    "    for i in range(len(a)):\n",
    "        number = a[i]\n",
    "        n = random.sample(range(0, number), number)\n",
    "        start_time = datetime.now()\n",
    "        insert_sort_2(n)\n",
    "        end_time = datetime.now()\n",
    "        timeresult[j,i]=(end_time - start_time).total_seconds()"
   ]
  },
  {
   "cell_type": "code",
   "execution_count": 14,
   "metadata": {},
   "outputs": [
    {
     "data": {
      "image/png": "[encoded data removed]",
      "text/plain": [
       "<Figure size 432x288 with 1 Axes>"
      ]
     },
     "metadata": {
      "needs_background": "light"
     },
     "output_type": "display_data"
    }
   ],
   "source": [
    "\n",
    "x = np.array([a,a,a,a,a])\n",
    "y = timeresult\n",
    "# plot\n",
    "fig, ax = plt.subplots()\n",
    "ax.scatter(x, y, linewidth=2)\n",
    "ax.set_ylabel('time cost in second')\n",
    "ax.set_xlabel('the lens of the list')\n",
    "ax.set_title('the complex of the insert sort')\n",
    "ax.grid()\n",
    "#ax.legend()\n",
    "plt.show()"
   ]
  },
  {
   "cell_type": "code",
   "execution_count": 15,
   "metadata": {},
   "outputs": [
    {
     "data": {
      "image/png": "[encoded data removed]",
      "text/plain": [
       "<Figure size 432x288 with 1 Axes>"
      ]
     },
     "metadata": {
      "needs_background": "light"
     },
     "output_type": "display_data"
    }
   ],
   "source": [
    "x = np.array([a,a,a,a,a])\n",
    "y = timeresult\n",
    "# plot\n",
    "fig, ax = plt.subplots()\n",
    "ax.scatter(x, y, linewidth=2)\n",
    "plt.yscale('symlog')\n",
    "ax.set_ylabel('time cost in second')\n",
    "ax.set_xlabel('the lens of the list')\n",
    "ax.set_title('the complex of the insert sort')\n",
    "ax.grid()\n",
    "plt.show()"
   ]
  },
  {
   "cell_type": "code",
   "execution_count": null,
   "metadata": {},
   "outputs": [],
   "source": []
  }
 ],
 "metadata": {
  "kernelspec": {
   "display_name": "Python 3",
   "language": "python",
   "name": "python3"
  },
  "language_info": {
   "codemirror_mode": {
    "name": "ipython",
    "version": 3
   },
   "file_extension": ".py",
   "mimetype": "text/x-python",
   "name": "python",
   "nbconvert_exporter": "python",
   "pygments_lexer": "ipython3",
   "version": "3.8.5"
  }
 },
 "nbformat": 4,
 "nbformat_minor": 4
}
