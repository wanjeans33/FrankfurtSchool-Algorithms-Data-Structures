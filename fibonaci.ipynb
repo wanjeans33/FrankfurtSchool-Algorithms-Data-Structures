{
 "cells": [
  {
   "cell_type": "code",
   "execution_count": 8,
   "metadata": {},
   "outputs": [
    {
     "name": "stdout",
     "output_type": "stream",
     "text": [
      "55\n"
     ]
    }
   ],
   "source": [
    "def fibonaci(n):\n",
    "    if n==1 or n==2:\n",
    "        #print(f\"the {n}th is {1}\")\n",
    "        return 1\n",
    "    else:\n",
    "        result= fibonaci(n-1)+fibonaci(n-2)\n",
    "        #print(f\"the {n}th is {result}\")\n",
    "        return result\n",
    "#test\n",
    "print(fibonaci(10))"
   ]
  },
  {
   "cell_type": "code",
   "execution_count": 2,
   "metadata": {},
   "outputs": [
    {
     "name": "stdout",
     "output_type": "stream",
     "text": [
      "13\n"
     ]
    }
   ],
   "source": [
    "def fibonaci_smart(n):\n",
    "    a,b,result =1,1,1\n",
    "    i=0\n",
    "    while i < n-2:\n",
    "        result=a+b\n",
    "        a,b=b,result\n",
    "        i+=1\n",
    "    return result\n",
    "print(fibonaci_smart(7))"
   ]
  },
  {
   "cell_type": "markdown",
   "metadata": {},
   "source": []
  },
  {
   "cell_type": "code",
   "execution_count": 3,
   "metadata": {},
   "outputs": [],
   "source": [
    "fibonaci_dectionary = {0:0,\n",
    "                       1:1}\n",
    "\n",
    "def fibonaci_1(n):\n",
    "    value = fibonaci_dectionary.get(n)\n",
    "    if value is not None:\n",
    "       return  value\n",
    "    else:\n",
    "        result=fibonaci_1(n-1)+fibonaci_1(n-2)\n",
    "        fibonaci_dectionary[n]=result\n",
    "        return result\n",
    "\n"
   ]
  },
  {
   "cell_type": "code",
   "execution_count": 4,
   "metadata": {},
   "outputs": [],
   "source": [
    "def next_large(n):\n",
    "    i=1\n",
    "    a=fibonaci(i)\n",
    "    while a<n:\n",
    "        i+=1\n",
    "        a=fibonaci(i)\n",
    "    return a\n",
    "\n",
    "\n",
    "def next_large_1(n):\n",
    "    i=1\n",
    "    a=fibonaci_1(i)\n",
    "    while a<n:\n",
    "        i+=1\n",
    "        a=fibonaci_1(i)\n",
    "    return a\n",
    "\n",
    "\n",
    "def next_large_smart(n):\n",
    "    i=1\n",
    "    a=fibonaci_smart(i)\n",
    "    while a<n:\n",
    "        i+=1\n",
    "        a=fibonaci_smart(i)\n",
    "    return a\n"
   ]
  },
  {
   "cell_type": "code",
   "execution_count": 15,
   "metadata": {},
   "outputs": [],
   "source": [
    "from datetime import datetime\n",
    "import numpy as np\n",
    "a=[10,100,1000,100000,1000000,100000000]\n",
    "time_result=np.zeros((3,len(a)))\n",
    "i=0\n",
    "for n in a:\n",
    "    start_time = datetime.now()\n",
    "    next_large(n)\n",
    "    end_time= datetime.now()\n",
    "    time_result[0,i]=(end_time - start_time).total_seconds()\n",
    "    start_time = datetime.now()\n",
    "    next_large_1(n)\n",
    "    end_time= datetime.now()\n",
    "    time_result[1,i]=(end_time - start_time).total_seconds()\n",
    "    start_time = datetime.now()\n",
    "    next_large_smart(n)\n",
    "    end_time= datetime.now()\n",
    "    time_result[2,i]=(end_time - start_time).total_seconds()\n",
    "    i+=1\n"
   ]
  },
  {
   "cell_type": "code",
   "execution_count": 1,
   "metadata": {},
   "outputs": [
    {
     "ename": "NameError",
     "evalue": "name 'np' is not defined",
     "output_type": "error",
     "traceback": [
      "\u001b[0;31m---------------------------------------------------------------------------\u001b[0m",
      "\u001b[0;31mNameError\u001b[0m                                 Traceback (most recent call last)",
      "\u001b[0;32m<ipython-input-1-f73a6e6f1612>\u001b[0m in \u001b[0;36m<module>\u001b[0;34m\u001b[0m\n\u001b[1;32m      1\u001b[0m \u001b[0;32mimport\u001b[0m \u001b[0mmatplotlib\u001b[0m\u001b[0;34m.\u001b[0m\u001b[0mpyplot\u001b[0m \u001b[0;32mas\u001b[0m \u001b[0mplt\u001b[0m\u001b[0;34m\u001b[0m\u001b[0;34m\u001b[0m\u001b[0m\n\u001b[0;32m----> 2\u001b[0;31m \u001b[0mx\u001b[0m \u001b[0;34m=\u001b[0m \u001b[0mnp\u001b[0m\u001b[0;34m.\u001b[0m\u001b[0marray\u001b[0m\u001b[0;34m(\u001b[0m\u001b[0ma\u001b[0m\u001b[0;34m)\u001b[0m\u001b[0;34m\u001b[0m\u001b[0;34m\u001b[0m\u001b[0m\n\u001b[0m\u001b[1;32m      3\u001b[0m \u001b[0my1\u001b[0m \u001b[0;34m=\u001b[0m \u001b[0mtime_result\u001b[0m\u001b[0;34m[\u001b[0m\u001b[0;36m0\u001b[0m\u001b[0;34m,\u001b[0m\u001b[0;34m:\u001b[0m\u001b[0;34m]\u001b[0m\u001b[0;34m\u001b[0m\u001b[0;34m\u001b[0m\u001b[0m\n\u001b[1;32m      4\u001b[0m \u001b[0my2\u001b[0m \u001b[0;34m=\u001b[0m \u001b[0mtime_result\u001b[0m\u001b[0;34m[\u001b[0m\u001b[0;36m1\u001b[0m\u001b[0;34m,\u001b[0m\u001b[0;34m:\u001b[0m\u001b[0;34m]\u001b[0m\u001b[0;34m\u001b[0m\u001b[0;34m\u001b[0m\u001b[0m\n\u001b[1;32m      5\u001b[0m \u001b[0my3\u001b[0m \u001b[0;34m=\u001b[0m \u001b[0mtime_result\u001b[0m\u001b[0;34m[\u001b[0m\u001b[0;36m2\u001b[0m\u001b[0;34m,\u001b[0m\u001b[0;34m:\u001b[0m\u001b[0;34m]\u001b[0m\u001b[0;34m\u001b[0m\u001b[0;34m\u001b[0m\u001b[0m\n",
      "\u001b[0;31mNameError\u001b[0m: name 'np' is not defined"
     ]
    }
   ],
   "source": [
    "import matplotlib.pyplot as plt\n",
    "x = np.array(a)\n",
    "y1 = time_result[0,:]\n",
    "y2 = time_result[1,:]\n",
    "y3 = time_result[2,:]\n",
    "# plot\n",
    "fig, ax = plt.subplots()\n",
    "plt.yscale('symlog')\n",
    "\n",
    "ax.scatter(x, y1, linewidth=2,label=\"origin\")\n",
    "ax.scatter(x, y2, linewidth=2,label=\"dictionary\")\n",
    "ax.scatter(x, y3, linewidth=2,label=\"smart\")\n",
    "ax.set_ylabel('time cost in second')\n",
    "ax.set_xlabel('')\n",
    "ax.set_title('the complex of the insert sort')\n",
    "ax.grid()\n",
    "ax.legend()\n",
    "plt.show()"
   ]
  },
  {
   "cell_type": "markdown",
   "metadata": {},
   "source": [
    "## use class with fibonaci"
   ]
  },
  {
   "cell_type": "code",
   "execution_count": 21,
   "metadata": {},
   "outputs": [],
   "source": [
    "class Fibonaci:\n",
    "    def __init__(self):\n",
    "        self.Fibonaci_dectionary= {0:0,\n",
    "                                   1:1}   \n",
    "    def get_number_at(self,n):\n",
    "        if n in self.Fibonaci_dectionary:\n",
    "            return  self.Fibonaci_dectionary[n]\n",
    "        else:\n",
    "            result=Fibonaci.get_number_at(self,n-1)+Fibonaci.get_number_at(self,n-2)\n",
    "            self.Fibonaci_dectionary[n]=result\n",
    "            return result\n",
    "    \n",
    "    def get_next_larger_than(self,n):\n",
    "        i=1\n",
    "        a=Fibonaci.get_number_at(self,i)\n",
    "        while a<n:\n",
    "            i+=1\n",
    "            a=Fibonaci.get_number_at(self,i)\n",
    "        return a   "
   ]
  },
  {
   "cell_type": "code",
   "execution_count": 22,
   "metadata": {},
   "outputs": [
    {
     "name": "stdout",
     "output_type": "stream",
     "text": [
      "{0: 0, 1: 1, 2: 1, 3: 2, 4: 3, 5: 5, 6: 8, 7: 13}\n"
     ]
    },
    {
     "data": {
      "text/plain": [
       "55"
      ]
     },
     "execution_count": 22,
     "metadata": {},
     "output_type": "execute_result"
    }
   ],
   "source": [
    "fibonaci=Fibonaci()\n",
    "fibonaci.get_next_larger_than(10)\n",
    "print(fibonaci.Fibonaci_dectionary)\n",
    "fibonaci.get_number_at(10)"
   ]
  },
  {
   "cell_type": "code",
   "execution_count": 27,
   "metadata": {},
   "outputs": [],
   "source": [
    "class Fibonaci:\n",
    "    Fibonaci_dectionary= {0:0,\n",
    "                          1:1}  \n",
    "    \n",
    "    @staticmethod \n",
    "    def get_number_at(n):\n",
    "        if n in Fibonaci.Fibonaci_dectionary:\n",
    "            return  Fibonaci.Fibonaci_dectionary[n]\n",
    "        else:\n",
    "            result=Fibonaci.get_number_at(n-1)+Fibonaci.get_number_at(n-2)\n",
    "            Fibonaci.Fibonaci_dectionary[n]=result\n",
    "            return result\n",
    "    \n",
    "    @staticmethod\n",
    "    def get_next_larger_than(n):\n",
    "        i=1\n",
    "        a=Fibonaci.get_number_at(i)\n",
    "        while a<n:\n",
    "            i+=1\n",
    "            a=Fibonaci.get_number_at(i)\n",
    "        return a  "
   ]
  },
  {
   "cell_type": "code",
   "execution_count": 28,
   "metadata": {},
   "outputs": [
    {
     "name": "stdout",
     "output_type": "stream",
     "text": [
      "{0: 0, 1: 1, 2: 1, 3: 2, 4: 3, 5: 5, 6: 8, 7: 13}\n"
     ]
    },
    {
     "data": {
      "text/plain": [
       "55"
      ]
     },
     "execution_count": 28,
     "metadata": {},
     "output_type": "execute_result"
    }
   ],
   "source": [
    "fibonaci=Fibonaci()\n",
    "fibonaci.get_next_larger_than(10)\n",
    "print(fibonaci.Fibonaci_dectionary)\n",
    "fibonaci.get_number_at(10)"
   ]
  },
  {
   "cell_type": "code",
   "execution_count": null,
   "metadata": {},
   "outputs": [],
   "source": []
  }
 ],
 "metadata": {
  "kernelspec": {
   "display_name": "base",
   "language": "python",
   "name": "python3"
  },
  "language_info": {
   "codemirror_mode": {
    "name": "ipython",
    "version": 3
   },
   "file_extension": ".py",
   "mimetype": "text/x-python",
   "name": "python",
   "nbconvert_exporter": "python",
   "pygments_lexer": "ipython3",
   "version": "3.8.5"
  },
  "orig_nbformat": 4
 },
 "nbformat": 4,
 "nbformat_minor": 2
}
