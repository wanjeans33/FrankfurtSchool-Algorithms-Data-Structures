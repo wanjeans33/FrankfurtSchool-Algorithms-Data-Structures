{
 "cells": [
  {
   "cell_type": "code",
   "execution_count": 8,
   "metadata": {},
   "outputs": [
    {
     "name": "stdout",
     "output_type": "stream",
     "text": [
      "55\n"
     ]
    }
   ],
   "source": [
    "def fibonaci(n):\n",
    "    if n==1 or n==2:\n",
    "        #print(f\"the {n}th is {1}\")\n",
    "        return 1\n",
    "    else:\n",
    "        result= fibonaci(n-1)+fibonaci(n-2)\n",
    "        #print(f\"the {n}th is {result}\")\n",
    "        return result\n",
    "#test\n",
    "print(fibonaci(10))"
   ]
  },
  {
   "cell_type": "code",
   "execution_count": 2,
   "metadata": {},
   "outputs": [
    {
     "name": "stdout",
     "output_type": "stream",
     "text": [
      "13\n"
     ]
    }
   ],
   "source": [
    "def fibonaci_smart(n):\n",
    "    a,b,result =1,1,1\n",
    "    i=0\n",
    "    while i < n-2:\n",
    "        result=a+b\n",
    "        a,b=b,result\n",
    "        i+=1\n",
    "    return result\n",
    "print(fibonaci_smart(7))"
   ]
  },
  {
   "cell_type": "markdown",
   "metadata": {},
   "source": []
  },
  {
   "cell_type": "code",
   "execution_count": 3,
   "metadata": {},
   "outputs": [],
   "source": [
    "fibonaci_dectionary = {0:0,\n",
    "                       1:1}\n",
    "\n",
    "def fibonaci_1(n):\n",
    "    value = fibonaci_dectionary.get(n)\n",
    "    if value is not None:\n",
    "       return  value\n",
    "    else:\n",
    "        result=fibonaci_1(n-1)+fibonaci_1(n-2)\n",
    "        fibonaci_dectionary[n]=result\n",
    "        return result\n",
    "\n"
   ]
  },
  {
   "cell_type": "code",
   "execution_count": 4,
   "metadata": {},
   "outputs": [],
   "source": [
    "def next_large(n):\n",
    "    i=1\n",
    "    a=fibonaci(i)\n",
    "    while a<n:\n",
    "        i+=1\n",
    "        a=fibonaci(i)\n",
    "    return a\n",
    "\n",
    "\n",
    "def next_large_1(n):\n",
    "    i=1\n",
    "    a=fibonaci_1(i)\n",
    "    while a<n:\n",
    "        i+=1\n",
    "        a=fibonaci_1(i)\n",
    "    return a\n",
    "\n",
    "\n",
    "def next_large_smart(n):\n",
    "    i=1\n",
    "    a=fibonaci_smart(i)\n",
    "    while a<n:\n",
    "        i+=1\n",
    "        a=fibonaci_smart(i)\n",
    "    return a\n"
   ]
  },
  {
   "cell_type": "code",
   "execution_count": 15,
   "metadata": {},
   "outputs": [],
   "source": [
    "from datetime import datetime\n",
    "import numpy as np\n",
    "a=[10,100,1000,100000,1000000,100000000]\n",
    "time_result=np.zeros((3,len(a)))\n",
    "i=0\n",
    "for n in a:\n",
    "    start_time = datetime.now()\n",
    "    next_large(n)\n",
    "    end_time= datetime.now()\n",
    "    time_result[0,i]=(end_time - start_time).total_seconds()\n",
    "    start_time = datetime.now()\n",
    "    next_large_1(n)\n",
    "    end_time= datetime.now()\n",
    "    time_result[1,i]=(end_time - start_time).total_seconds()\n",
    "    start_time = datetime.now()\n",
    "    next_large_smart(n)\n",
    "    end_time= datetime.now()\n",
    "    time_result[2,i]=(end_time - start_time).total_seconds()\n",
    "    i+=1\n"
   ]
  },
  {
   "cell_type": "code",
   "execution_count": null,
   "metadata": {},
   "outputs": [
    {
     "data": {
      "image/png": "[encoded data removed]",
      "text/plain": [
       "<Figure size 432x288 with 1 Axes>"
      ]
     },
     "metadata": {
      "needs_background": "light"
     },
     "output_type": "display_data"
    }
   ],
   "source": [
    "import matplotlib.pyplot as plt\n",
    "x = np.array(a)\n",
    "y1 = time_result[0,:]\n",
    "y2 = time_result[1,:]\n",
    "y3 = time_result[2,:]\n",
    "# plot\n",
    "fig, ax = plt.subplots()\n",
    "plt.yscale('symlog')\n",
    "\n",
    "ax.scatter(x, y1, linewidth=2,label=\"origin\")\n",
    "ax.scatter(x, y2, linewidth=2,label=\"dictionary\")\n",
    "ax.scatter(x, y3, linewidth=2,label=\"smart\")\n",
    "ax.set_ylabel('time cost in second')\n",
    "ax.set_xlabel('')\n",
    "ax.set_title('the complex of the insert sort')\n",
    "ax.grid()\n",
    "ax.legend()\n",
    "plt.show()"
   ]
  },
  {
   "cell_type": "code",
   "execution_count": null,
   "metadata": {},
   "outputs": [],
   "source": []
  }
 ],
 "metadata": {
  "kernelspec": {
   "display_name": "base",
   "language": "python",
   "name": "python3"
  },
  "language_info": {
   "codemirror_mode": {
    "name": "ipython",
    "version": 3
   },
   "file_extension": ".py",
   "mimetype": "text/x-python",
   "name": "python",
   "nbconvert_exporter": "python",
   "pygments_lexer": "ipython3",
   "version": "3.8.5"
  },
  "orig_nbformat": 4
 },
 "nbformat": 4,
 "nbformat_minor": 2
}
