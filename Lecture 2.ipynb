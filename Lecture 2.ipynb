{
 "cells": [
  {
   "cell_type": "markdown",
   "metadata": {},
   "source": [
    "# Lecture 2 Merge Sort\n",
    " what we have do is to implement the merge sort and compare it with the insert sort"
   ]
  },
  {
   "cell_type": "code",
   "execution_count": 1,
   "metadata": {},
   "outputs": [],
   "source": [
    "#this package is only for the test and plot. they are not used in merge sort alogithums\n",
    "import numpy as np\n",
    "from datetime import datetime\n",
    "import random\n",
    "import matplotlib.pyplot as plt"
   ]
  },
  {
   "cell_type": "markdown",
   "metadata": {},
   "source": [
    "## first we study the factorial\n",
    "the factorial is a good example to learn about self-calling recursive functions"
   ]
  },
  {
   "cell_type": "code",
   "execution_count": 2,
   "metadata": {},
   "outputs": [],
   "source": [
    "def factorial(n):\n",
    "    if n==0 or n==1:\n",
    "        return 1\n",
    "    else:\n",
    "        return n*factorial(n-1)"
   ]
  },
  {
   "cell_type": "markdown",
   "metadata": {},
   "source": [
    "## Merge Sort Algorithm"
   ]
  },
  {
   "cell_type": "code",
   "execution_count": 3,
   "metadata": {},
   "outputs": [
    {
     "name": "stdout",
     "output_type": "stream",
     "text": [
      "[-3, 2, 5, 8, 9]\n"
     ]
    }
   ],
   "source": [
    "\n",
    "def mergesort(n):\n",
    "\n",
    "    size=len(n)\n",
    "    \n",
    "    if size==1:\n",
    "        return n\n",
    "    else:\n",
    "        counter =+ 1\n",
    "        #split\n",
    "        mid=int(size/2)\n",
    "        \n",
    "        left=mergesort(n[0:mid])\n",
    "\n",
    "        right=mergesort(n[mid:])\n",
    "        \n",
    "        #merge left and right\n",
    "        result=[]\n",
    "        i,j=0,0\n",
    "        \n",
    "        while i< len(left) and j < len(right):\n",
    "\n",
    "            if left[i]<right[j]:\n",
    "                result.append(left[i])\n",
    "                i=i+1\n",
    "\n",
    "            else:\n",
    "                result.append(right[j])\n",
    "                j=j+1\n",
    "        \n",
    "        # After the loop, if there are remaining elements in the left/right sublist, add them to the result   \n",
    "        if i<len(left):\n",
    "            result.extend(left[i:])\n",
    "        elif j<len(right):\n",
    "            result.extend(right[j:])\n",
    "            \n",
    "        return result\n",
    "            \n",
    "\n",
    "temp = [-3,5,9,2,8]\n",
    "mergesort(temp)\n",
    "print(mergesort(temp))"
   ]
  },
  {
   "cell_type": "markdown",
   "metadata": {},
   "source": [
    "## For comparison of the time complexity run the insertion sort"
   ]
  },
  {
   "cell_type": "code",
   "execution_count": 4,
   "metadata": {},
   "outputs": [],
   "source": [
    "def insert_sort_2(List):\n",
    "    for i in range(0,len(List)):\n",
    "        ii = 0\n",
    "        while List[i] > List[ii]:\n",
    "            ii=ii+1\n",
    "        a = List[i]\n",
    "        List[ii+1:i+1]=List[ii:i]\n",
    "        List[ii]=a\n",
    "    return List"
   ]
  },
  {
   "cell_type": "markdown",
   "metadata": {},
   "source": [
    "## Creating a plot"
   ]
  },
  {
   "cell_type": "code",
   "execution_count": 5,
   "metadata": {},
   "outputs": [],
   "source": [
    "x=1\n",
    "a=np.array([100,200,500,1000,2000,5000,8000,10000,12000,15000,18000,20000,25000,30000])\n",
    "\n",
    "timeresult=np.zeros((x,len(a)))\n",
    "\n",
    "for j in range(x):\n",
    "    \n",
    "    for i in range(len(a)):\n",
    "        \n",
    "        number = a[i]\n",
    "        n = random.sample(range(0, number), number)\n",
    "        \n",
    "        start_time = datetime.now()\n",
    "        mergesort(n)\n",
    "        end_time = datetime.now()\n",
    "        \n",
    "        timeresult[j,i]=(end_time - start_time).total_seconds()"
   ]
  },
  {
   "cell_type": "code",
   "execution_count": 6,
   "metadata": {},
   "outputs": [],
   "source": [
    "timeresult1=np.zeros((x,len(a)))\n",
    "\n",
    "for j in range(x):\n",
    "    \n",
    "    for i in range(len(a)):\n",
    "        \n",
    "        number = a[i]\n",
    "        n = random.sample(range(0, number), number)\n",
    "        \n",
    "        start_time = datetime.now()\n",
    "        insert_sort_2(n)\n",
    "        end_time = datetime.now()\n",
    "\n",
    "        timeresult1[j,i]=(end_time - start_time).total_seconds()"
   ]
  },
  {
   "cell_type": "code",
   "execution_count": 7,
   "metadata": {},
   "outputs": [
    {
     "data": {
      "image/png": "[encoded data removed]",
      "text/plain": [
       "<Figure size 432x288 with 1 Axes>"
      ]
     },
     "metadata": {
      "needs_background": "light"
     },
     "output_type": "display_data"
    }
   ],
   "source": [
    "x = np.array([a])\n",
    "y1=timeresult1\n",
    "y = timeresult\n",
    "# plot\n",
    "fig, ax = plt.subplots()\n",
    "\n",
    "ax.scatter(x, y, linewidth=2,label='mergesort')\n",
    "ax.scatter(x,y1,linewidth=2,label='insertsort')\n",
    "\n",
    "ax.set_ylabel('time cost in second')\n",
    "ax.set_xlabel('the lens of the list')\n",
    "ax.set_title('the complex of the insert sort and merge sort')\n",
    "\n",
    "ax.grid()\n",
    "\n",
    "ax.legend()\n",
    "\n",
    "plt.show()"
   ]
  },
  {
   "cell_type": "code",
   "execution_count": 8,
   "metadata": {},
   "outputs": [
    {
     "data": {
      "image/png": "[encoded data removed]",
      "text/plain": [
       "<Figure size 432x288 with 1 Axes>"
      ]
     },
     "metadata": {
      "needs_background": "light"
     },
     "output_type": "display_data"
    }
   ],
   "source": [
    "fig, ax = plt.subplots()\n",
    "\n",
    "ax.scatter(x, y, linewidth=2,label='mergesort')\n",
    "ax.scatter(x,y1,linewidth=2,label='insertsort')\n",
    "\n",
    "plt.yscale('symlog')\n",
    "\n",
    "ax.set_ylabel('time cost in second')\n",
    "ax.set_xlabel('the lens of the list')\n",
    "ax.set_title('the complex of the insert sort and merge sort')\n",
    "\n",
    "ax.grid()\n",
    "\n",
    "ax.legend()\n",
    "\n",
    "plt.show()"
   ]
  },
  {
   "cell_type": "markdown",
   "metadata": {},
   "source": [
    "## conclusion\n",
    "As the figure showed, the merge sort is much faster then the insert sort.  \n",
    "By the theoretical the time complexity of the merge sort is $\\mathcal{O}(n\\log{n})$ and the insert sort is $\\mathcal{O}(n^2)$. \n",
    "\n",
    "The reason merge sort is faster is that, it repeatedly divides the input into smaller halves, sorts them, and then merges them back together. This means that the algorithm can sort sublists of sorted numbers instead of each number itself like the insertion sort. Hence it sorts two sorted sublists (arrays) into a single sorted list."
   ]
  },
  {
   "cell_type": "code",
   "execution_count": null,
   "metadata": {},
   "outputs": [],
   "source": []
  }
 ],
 "metadata": {
  "kernelspec": {
   "display_name": "Python 3",
   "language": "python",
   "name": "python3"
  },
  "language_info": {
   "codemirror_mode": {
    "name": "ipython",
    "version": 3
   },
   "file_extension": ".py",
   "mimetype": "text/x-python",
   "name": "python",
   "nbconvert_exporter": "python",
   "pygments_lexer": "ipython3",
   "version": "3.8.5"
  }
 },
 "nbformat": 4,
 "nbformat_minor": 4
}
