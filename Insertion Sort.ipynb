{
 "cells": [
  {
   "cell_type": "markdown",
   "metadata": {},
   "source": [
    "# Describe and Implement Insertion Sort\n",
    "<center>by Egle Group work\n",
    "  \n",
    "From Jing Wang, Marius Gnoth, Alexander Moshchev, Cheng Yu, Jialiang Gao and Zhuan Wu.\n",
    "\n",
    "Mented by Vahe Andonians Salmas</center>\n",
    "\n",
    "\n",
    "## Introduction\n",
    "Sort is the most commen algorithmus in our daily life. There are a lot of sort algorithmus, Insertion sort is one of the most intuitive and match the human mind. \n",
    "\n",
    "## Describe the Insertion Sort\n"
   ]
  },
  {
   "cell_type": "code",
   "execution_count": null,
   "metadata": {},
   "outputs": [],
   "source": []
  }
 ],
 "metadata": {
  "language_info": {
   "name": "python"
  },
  "orig_nbformat": 4
 },
 "nbformat": 4,
 "nbformat_minor": 2
}
