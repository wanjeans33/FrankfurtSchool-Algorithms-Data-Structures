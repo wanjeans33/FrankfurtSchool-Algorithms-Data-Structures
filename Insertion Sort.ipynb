{
 "cells": [
  {
   "cell_type": "markdown",
   "metadata": {},
   "source": [
    "# Describe and Implement Insertion Sort\n",
    "<center>by Egle Group work\n",
    "  \n",
    "From Jing Wang, Marius Gnoth, Alexander Moshchev, Cheng Yu, Jialiang Gao and Zhuan Wu\n",
    "\n",
    "Mented by Vahe Andonians Salmas</center>\n",
    "\n",
    "\n",
    "## Introduction\n",
    "Sort is the most commen algorithmus in our daily life. There are a lot of sort algorithmus, Insertion sort is one of the most intuitive and match the human mind. \n",
    "\n",
    "## Describe the Insertion Sort\n",
    "The insertion sort is most like humankind sort a hand of pork card. It strat with the second card, campare it with the first card and insert in the right way \\(left when it smaller , right when it bigger\\). After the second card, campare and insert the third the forth untill end of the card. \n",
    "\n",
    "The Algorithmus of Insertion Sort is think very close. Use a loop from the second list element to the last list element. In each loop compare the number list left of the selected number from left to right. When the selected number is smaller then the number in the list, insert the selected number left of the compared number and go to the next loop. \n",
    "\n",
    "## Implement"
   ]
  },
  {
   "cell_type": "code",
   "execution_count": 7,
   "metadata": {},
   "outputs": [],
   "source": [
    "def insertion_sort(List):\n",
    "    for i in range(0,len(List)):\n",
    "        ii = 0\n",
    "        while List[i] > List[ii]:\n",
    "            ii=ii+1\n",
    "        a = List[i]\n",
    "        List[ii+1:i+1]=List[ii:i]\n",
    "        List[ii]=a\n",
    "    return List"
   ]
  },
  {
   "cell_type": "markdown",
   "metadata": {},
   "source": [
    "### test \n",
    "with the List \\[3,4,6,1,2\\] &amp; \\[5,3,6,7,2,5\\]"
   ]
  },
  {
   "cell_type": "code",
   "execution_count": 8,
   "metadata": {},
   "outputs": [
    {
     "name": "stdout",
     "output_type": "stream",
     "text": [
      "List1 is [3, 4, 6, 1, 2], after the Sort result is [1, 2, 3, 4, 6]\n",
      "List2 is [5, 3, 6, 7, 2, 5], after the Sort result is [2, 3, 5, 5, 6, 7]\n"
     ]
    }
   ],
   "source": [
    "List1=[3,4,6,1,2]\n",
    "List2=[5,3,6,7,2,5]\n",
    "print(f'List1 is {List1}, after the Sort result is {insertion_sort(List1)}')\n",
    "print(f'List2 is {List2}, after the Sort result is {insertion_sort(List2)}')"
   ]
  },
  {
   "cell_type": "markdown",
   "metadata": {},
   "source": [
    "## Performance Analysis\n"
   ]
  },
  {
   "cell_type": "code",
   "execution_count": 9,
   "metadata": {},
   "outputs": [],
   "source": [
    "import numpy as np\n",
    "import matplotlib.pyplot as plt\n",
    "import random\n",
    "from datetime import datetime"
   ]
  },
  {
   "cell_type": "markdown",
   "metadata": {},
   "source": [
    "### Generate random lists of varying sizes and Measure the time it takes to sort each list using insertion_sort function."
   ]
  },
  {
   "cell_type": "code",
   "execution_count": 10,
   "metadata": {},
   "outputs": [],
   "source": [
    "x=3 \n",
    "#x is for each len of the number how many round we run to estimate the random error.\n",
    "\n",
    "a=np.array([100,200,500,800,1000,2000,5000,8000,10000,12000,15000,18000,20000])\n",
    "# a is a list of the len of random number list.\n",
    "\n",
    "timeresult=np.zeros((x,len(a)))\n",
    "#timeresult is the result array in size(x * len(a)) to record the running time, first are all zero \n",
    "\n",
    "for j in range(x):\n",
    "\n",
    "    for i in range(len(a)):\n",
    "        number = a[i]\n",
    "        #take the len of the random list\n",
    "\n",
    "        n = random.sample(range(0, number), number) \n",
    "        #generate the random lists\n",
    "\n",
    "        start_time = datetime.now()\n",
    "        #use datetime to record the start time\n",
    "        insertion_sort(n)\n",
    "        #use insertion_sort function sort the random list n \n",
    "        end_time = datetime.now()\n",
    "        #record the end time\n",
    "\n",
    "        timeresult[j,i]=(end_time - start_time).total_seconds()\n",
    "        #calcaulate the total time in seconds and record it in the matrix timeresult."
   ]
  },
  {
   "cell_type": "markdown",
   "metadata": {},
   "source": [
    "### Plot a chart"
   ]
  },
  {
   "cell_type": "code",
   "execution_count": 17,
   "metadata": {},
   "outputs": [
    {
     "data": {
      "image/png": "[encoded data removed]",
      "text/plain": [
       "<Figure size 640x480 with 1 Axes>"
      ]
     },
     "metadata": {},
     "output_type": "display_data"
    }
   ],
   "source": [
    "x = np.array([a,a,a])\n",
    "y = timeresult\n",
    "# plot\n",
    "fig, ax = plt.subplots()\n",
    "ax.scatter(x, y, linewidth=2)\n",
    "ax.set_ylabel('time cost in second')\n",
    "ax.set_xlabel('the lengths of the random number list')\n",
    "ax.set_title('the running time of the insertion sort')\n",
    "ax.grid()\n",
    "#ax.legend()\n",
    "image_format = 'svg' # e.g .png, .svg, etc.\n",
    "image_name = 'insertion_sort.svg'\n",
    "\n",
    "fig.savefig(image_name, format=image_format, dpi=1200)"
   ]
  },
  {
   "cell_type": "code",
   "execution_count": null,
   "metadata": {},
   "outputs": [],
   "source": []
  }
 ],
 "metadata": {
  "kernelspec": {
   "display_name": "base",
   "language": "python",
   "name": "python3"
  },
  "language_info": {
   "codemirror_mode": {
    "name": "ipython",
    "version": 3
   },
   "file_extension": ".py",
   "mimetype": "text/x-python",
   "name": "python",
   "nbconvert_exporter": "python",
   "pygments_lexer": "ipython3",
   "version": "3.11.4"
  },
  "orig_nbformat": 4
 },
 "nbformat": 4,
 "nbformat_minor": 2
}
