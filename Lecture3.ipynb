{
 "cells": [
  {
   "cell_type": "code",
   "execution_count": 15,
   "metadata": {},
   "outputs": [
    {
     "name": "stdout",
     "output_type": "stream",
     "text": [
      "the 2th is 1\n",
      "the 1th is 1\n",
      "the 3th is 2\n",
      "the 2th is 1\n",
      "the 4th is 3\n",
      "the 2th is 1\n",
      "the 1th is 1\n",
      "the 3th is 2\n",
      "the 5th is 5\n",
      "the 2th is 1\n",
      "the 1th is 1\n",
      "the 3th is 2\n",
      "the 2th is 1\n",
      "the 4th is 3\n",
      "the 6th is 8\n",
      "the 2th is 1\n",
      "the 1th is 1\n",
      "the 3th is 2\n",
      "the 2th is 1\n",
      "the 4th is 3\n",
      "the 2th is 1\n",
      "the 1th is 1\n",
      "the 3th is 2\n",
      "the 5th is 5\n",
      "the 7th is 13\n",
      "the 2th is 1\n",
      "the 1th is 1\n",
      "the 3th is 2\n",
      "the 2th is 1\n",
      "the 4th is 3\n",
      "the 2th is 1\n",
      "the 1th is 1\n",
      "the 3th is 2\n",
      "the 5th is 5\n",
      "the 2th is 1\n",
      "the 1th is 1\n",
      "the 3th is 2\n",
      "the 2th is 1\n",
      "the 4th is 3\n",
      "the 6th is 8\n",
      "the 8th is 21\n",
      "the 2th is 1\n",
      "the 1th is 1\n",
      "the 3th is 2\n",
      "the 2th is 1\n",
      "the 4th is 3\n",
      "the 2th is 1\n",
      "the 1th is 1\n",
      "the 3th is 2\n",
      "the 5th is 5\n",
      "the 2th is 1\n",
      "the 1th is 1\n",
      "the 3th is 2\n",
      "the 2th is 1\n",
      "the 4th is 3\n",
      "the 6th is 8\n",
      "the 2th is 1\n",
      "the 1th is 1\n",
      "the 3th is 2\n",
      "the 2th is 1\n",
      "the 4th is 3\n",
      "the 2th is 1\n",
      "the 1th is 1\n",
      "the 3th is 2\n",
      "the 5th is 5\n",
      "the 7th is 13\n",
      "the 9th is 34\n",
      "the 2th is 1\n",
      "the 1th is 1\n",
      "the 3th is 2\n",
      "the 2th is 1\n",
      "the 4th is 3\n",
      "the 2th is 1\n",
      "the 1th is 1\n",
      "the 3th is 2\n",
      "the 5th is 5\n",
      "the 2th is 1\n",
      "the 1th is 1\n",
      "the 3th is 2\n",
      "the 2th is 1\n",
      "the 4th is 3\n",
      "the 6th is 8\n",
      "the 2th is 1\n",
      "the 1th is 1\n",
      "the 3th is 2\n",
      "the 2th is 1\n",
      "the 4th is 3\n",
      "the 2th is 1\n",
      "the 1th is 1\n",
      "the 3th is 2\n",
      "the 5th is 5\n",
      "the 7th is 13\n",
      "the 2th is 1\n",
      "the 1th is 1\n",
      "the 3th is 2\n",
      "the 2th is 1\n",
      "the 4th is 3\n",
      "the 2th is 1\n",
      "the 1th is 1\n",
      "the 3th is 2\n",
      "the 5th is 5\n",
      "the 2th is 1\n",
      "the 1th is 1\n",
      "the 3th is 2\n",
      "the 2th is 1\n",
      "the 4th is 3\n",
      "the 6th is 8\n",
      "the 8th is 21\n",
      "the 10th is 55\n",
      "55\n"
     ]
    }
   ],
   "source": [
    "def fibonaci(n):\n",
    "    if n==1 or n==2:\n",
    "        print(f\"the {n}th is {1}\")\n",
    "        return 1\n",
    "    else:\n",
    "        result= fibonaci(n-1)+fibonaci(n-2)\n",
    "        print(f\"the {n}th is {result}\")\n",
    "        return result\n",
    "#test\n",
    "print(fibonaci(10))"
   ]
  },
  {
   "cell_type": "code",
   "execution_count": 16,
   "metadata": {},
   "outputs": [
    {
     "name": "stdout",
     "output_type": "stream",
     "text": [
      "[ 1.  1.  2.  3.  5.  8. 13. 21. 34. 55.]\n"
     ]
    }
   ],
   "source": [
    "import numpy as np\n",
    "def fibonaci_List(n):\n",
    "    fib=np.zeros(n)\n",
    "    fib[0]=1\n",
    "    if n==1:\n",
    "        print(fib)\n",
    "        return fib\n",
    "    else:\n",
    "        fib[1]=1\n",
    "        if n==2:\n",
    "            return fib\n",
    "        else:\n",
    "            for i in range(2,n):\n",
    "                fib[i]=fib[i-1]+fib[i-2]\n",
    "            return fib\n",
    "print(fibonaci_List(10))"
   ]
  },
  {
   "cell_type": "code",
   "execution_count": 20,
   "metadata": {},
   "outputs": [
    {
     "name": "stdout",
     "output_type": "stream",
     "text": [
      "13\n"
     ]
    }
   ],
   "source": [
    "def fibonaci_smart(n):\n",
    "    a,b,result =1,1,1\n",
    "    i=0\n",
    "    while i < n-2:\n",
    "        result=a+b\n",
    "        a,b=b,result\n",
    "        i+=1\n",
    "    return result\n",
    "print(fibonaci_smart(7))"
   ]
  },
  {
   "cell_type": "code",
   "execution_count": 22,
   "metadata": {},
   "outputs": [
    {
     "name": "stdout",
     "output_type": "stream",
     "text": [
      "13\n"
     ]
    }
   ],
   "source": [
    "def next_large(n):\n",
    "    i=1\n",
    "    a=fibonaci_smart(1)\n",
    "    while a<n:\n",
    "        i+=1\n",
    "        a=fibonaci_smart(i)\n",
    "    return a\n",
    "print(next_large(10))"
   ]
  },
  {
   "cell_type": "code",
   "execution_count": null,
   "metadata": {},
   "outputs": [],
   "source": []
  }
 ],
 "metadata": {
  "kernelspec": {
   "display_name": "base",
   "language": "python",
   "name": "python3"
  },
  "language_info": {
   "codemirror_mode": {
    "name": "ipython",
    "version": 3
   },
   "file_extension": ".py",
   "mimetype": "text/x-python",
   "name": "python",
   "nbconvert_exporter": "python",
   "pygments_lexer": "ipython3",
   "version": "3.8.5"
  },
  "orig_nbformat": 4
 },
 "nbformat": 4,
 "nbformat_minor": 2
}
